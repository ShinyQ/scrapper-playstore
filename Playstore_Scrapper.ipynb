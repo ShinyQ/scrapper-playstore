{
  "nbformat": 4,
  "nbformat_minor": 0,
  "metadata": {
    "colab": {
      "name": "Playstore Scrapper.ipynb",
      "provenance": [],
      "collapsed_sections": [],
      "authorship_tag": "ABX9TyMnWLhmFc9h7fh2cPJrBx8T"
    },
    "kernelspec": {
      "name": "python3",
      "display_name": "Python 3"
    },
    "language_info": {
      "name": "python"
    }
  },
  "cells": [
    {
      "cell_type": "markdown",
      "metadata": {
        "id": "0d5PUmg8Qo_B"
      },
      "source": [
        "## **Playstore Crawling**"
      ]
    },
    {
      "cell_type": "code",
      "metadata": {
        "id": "kakY46bACmho",
        "colab": {
          "base_uri": "https://localhost:8080/"
        },
        "outputId": "8096a913-67dd-44f6-ea94-ae4e97278004"
      },
      "source": [
        "!pip install google-play-scraper"
      ],
      "execution_count": 75,
      "outputs": [
        {
          "output_type": "stream",
          "text": [
            "Requirement already satisfied: google-play-scraper in /usr/local/lib/python3.7/dist-packages (1.0.1)\n"
          ],
          "name": "stdout"
        }
      ]
    },
    {
      "cell_type": "code",
      "metadata": {
        "id": "1fdCR6fgN7FU"
      },
      "source": [
        "import pandas as pd"
      ],
      "execution_count": 76,
      "outputs": []
    },
    {
      "cell_type": "code",
      "metadata": {
        "id": "tfJMWhxIE8-T"
      },
      "source": [
        "from google_play_scraper import Sort, reviews_all\n",
        "\n",
        "result = reviews_all(\n",
        "    'ovo.id',\n",
        "    sleep_milliseconds=2000,\n",
        "    lang='id', # defaults to 'en'\n",
        "    country='id', # defaults to 'us'\n",
        "    sort=Sort.MOST_RELEVANT, # defaults to Sort.MOST_RELEVANT\n",
        ")"
      ],
      "execution_count": 77,
      "outputs": []
    },
    {
      "cell_type": "code",
      "metadata": {
        "id": "BbWP2Q_sFWGj"
      },
      "source": [
        "result_link = reviews_all(\n",
        "    'com.telkom.mwallet',\n",
        "    sleep_milliseconds=2000,\n",
        "    lang='id', # defaults to 'en'\n",
        "    country='id', # defaults to 'us'\n",
        "    sort=Sort.MOST_RELEVANT, # defaults to Sort.MOST_RELEVANT\n",
        ")"
      ],
      "execution_count": 78,
      "outputs": []
    },
    {
      "cell_type": "code",
      "metadata": {
        "id": "bsu5ymWEJNWO"
      },
      "source": [
        "result_dana = reviews_all(\n",
        "    'id.dana',\n",
        "    sleep_milliseconds=2000,\n",
        "    lang='id', # defaults to 'en'\n",
        "    country='id', # defaults to 'us'\n",
        "    sort=Sort.MOST_RELEVANT, # defaults to Sort.MOST_RELEVANT\n",
        ")"
      ],
      "execution_count": 79,
      "outputs": []
    },
    {
      "cell_type": "code",
      "metadata": {
        "id": "R9bRQrZOJZ92"
      },
      "source": [
        "result_sakuku = reviews_all(\n",
        "    'com.bca.sakuku',\n",
        "    sleep_milliseconds=2000,\n",
        "    lang='id', # defaults to 'en'\n",
        "    country='id', # defaults to 'us'\n",
        "    sort=Sort.MOST_RELEVANT, # defaults to Sort.MOST_RELEVANT\n",
        ")"
      ],
      "execution_count": 80,
      "outputs": []
    },
    {
      "cell_type": "code",
      "metadata": {
        "id": "O3CguebuLylQ"
      },
      "source": [
        "data_ovo, data_link, data_dana, data_sakuku = [], [], [], []\n",
        "\n",
        "for ovo, link, dana, sakuku in zip(result, result_link, result_dana, result_sakuku):\n",
        "    data_ovo.append(ovo.get(\"content\"))\n",
        "    data_link.append(link.get(\"content\"))\n",
        "    data_dana.append(dana.get(\"content\"))\n",
        "    data_sakuku.append(sakuku.get(\"content\"))"
      ],
      "execution_count": 81,
      "outputs": []
    },
    {
      "cell_type": "code",
      "metadata": {
        "colab": {
          "base_uri": "https://localhost:8080/"
        },
        "id": "tC2e-pi3Q3aw",
        "outputId": "a274819f-8412-42bc-d6de-552621902f66"
      },
      "source": [
        "print(f'Data Google Play : OvO ({len(data_ovo)}), LinkAja ({len(data_link)}), Dana ({len(data_dana)}), Sakuku ({len(data_sakuku)})')"
      ],
      "execution_count": 82,
      "outputs": [
        {
          "output_type": "stream",
          "text": [
            "Data Google Play : OvO (2786), LinkAja (2786), Dana (2786), Sakuku (2786)\n"
          ],
          "name": "stdout"
        }
      ]
    },
    {
      "cell_type": "code",
      "metadata": {
        "id": "y8wKMp4mMMOl"
      },
      "source": [
        "import csv \n",
        "\n",
        "with open('ovo.csv', 'w') as f:\n",
        "    write = csv.writer(f)\n",
        "    write.writerow([\"comments\"])\n",
        "    for id in range(len(data_ovo)):\n",
        "        write.writerow([data_ovo[id]])"
      ],
      "execution_count": 83,
      "outputs": []
    },
    {
      "cell_type": "code",
      "metadata": {
        "id": "YUSLfyrHOiBT"
      },
      "source": [
        "with open('dana.csv', 'w') as f:\n",
        "    write = csv.writer(f)\n",
        "    write.writerow([\"comments\"])\n",
        "    for id in range(len(data_dana)):\n",
        "        write.writerow([data_dana[id]])"
      ],
      "execution_count": 85,
      "outputs": []
    },
    {
      "cell_type": "code",
      "metadata": {
        "id": "ZbjQ64cOPtaa"
      },
      "source": [
        "with open('link.csv', 'w') as f:\n",
        "    write = csv.writer(f)\n",
        "    write.writerow([\"comments\"])\n",
        "    for id in range(len(data_link)):\n",
        "        write.writerow([data_link[id]])"
      ],
      "execution_count": 86,
      "outputs": []
    },
    {
      "cell_type": "code",
      "metadata": {
        "id": "d_-UuphsP71D"
      },
      "source": [
        "with open('sakuku.csv', 'w') as f:\n",
        "    write = csv.writer(f)\n",
        "    write.writerow([\"comments\"])\n",
        "    for id in range(len(data_sakuku)):\n",
        "        write.writerow([data_sakuku[id]])"
      ],
      "execution_count": 87,
      "outputs": []
    }
  ]
}